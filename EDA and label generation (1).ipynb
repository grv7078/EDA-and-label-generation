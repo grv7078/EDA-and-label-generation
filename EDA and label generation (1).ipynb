{
 "cells": [
  {
   "cell_type": "code",
   "execution_count": 1,
   "id": "6b9e6c19",
   "metadata": {},
   "outputs": [],
   "source": [
    "import numpy as np\n",
    "import pandas as pd\n",
    "import matplotlib.pyplot as plt\n",
    "import seaborn as sns\n",
    "from sklearn.model_selection import train_test_split\n",
    "from sklearn.linear_model import LogisticRegression\n",
    "from sklearn.neighbors import KNeighborsClassifier\n",
    "from sklearn.tree import DecisionTreeClassifier\n",
    "from sklearn.ensemble import RandomForestClassifier\n",
    "from sklearn import metrics\n",
    "\n",
    "import matplotlib.pyplot as plt\n",
    "%matplotlib inline"
   ]
  },
  {
   "cell_type": "code",
   "execution_count": 2,
   "id": "c066db01",
   "metadata": {},
   "outputs": [],
   "source": [
    "import numpy as np\n",
    "import pandas as pd\n",
    "\n",
    "import matplotlib.pyplot as plt\n",
    "%matplotlib inline\n",
    "df = pd.read_csv(\"meta.csv\", \n",
    "                 usecols=[\"patient\",\"record_id\",\"fs\",\"sig_len\",\"n_sig\",\"base_date\",\"base_time\",\"units\",\"sig_name\",\"age\",\"sex\",\"ECG_date\",\"Diagnose\",\"Reason_for_admission\"])"
   ]
  },
  {
   "cell_type": "code",
   "execution_count": 3,
   "id": "65878169",
   "metadata": {},
   "outputs": [
    {
     "data": {
      "text/html": [
       "<div>\n",
       "<style scoped>\n",
       "    .dataframe tbody tr th:only-of-type {\n",
       "        vertical-align: middle;\n",
       "    }\n",
       "\n",
       "    .dataframe tbody tr th {\n",
       "        vertical-align: top;\n",
       "    }\n",
       "\n",
       "    .dataframe thead th {\n",
       "        text-align: right;\n",
       "    }\n",
       "</style>\n",
       "<table border=\"1\" class=\"dataframe\">\n",
       "  <thead>\n",
       "    <tr style=\"text-align: right;\">\n",
       "      <th></th>\n",
       "      <th>patient</th>\n",
       "      <th>record_id</th>\n",
       "      <th>fs</th>\n",
       "      <th>sig_len</th>\n",
       "      <th>n_sig</th>\n",
       "      <th>base_date</th>\n",
       "      <th>base_time</th>\n",
       "      <th>units</th>\n",
       "      <th>sig_name</th>\n",
       "      <th>age</th>\n",
       "      <th>sex</th>\n",
       "      <th>ECG_date</th>\n",
       "      <th>Diagnose</th>\n",
       "      <th>Reason_for_admission</th>\n",
       "    </tr>\n",
       "  </thead>\n",
       "  <tbody>\n",
       "    <tr>\n",
       "      <th>0</th>\n",
       "      <td>patient001</td>\n",
       "      <td>s0010_re</td>\n",
       "      <td>1000</td>\n",
       "      <td>38400</td>\n",
       "      <td>15</td>\n",
       "      <td>NaN</td>\n",
       "      <td>NaN</td>\n",
       "      <td>['mV', 'mV', 'mV', 'mV', 'mV', 'mV', 'mV', 'mV...</td>\n",
       "      <td>['i', 'ii', 'iii', 'avr', 'avl', 'avf', 'v1', ...</td>\n",
       "      <td>81.0</td>\n",
       "      <td>female</td>\n",
       "      <td>01/10/1990</td>\n",
       "      <td>NaN</td>\n",
       "      <td>Myocardial infarction</td>\n",
       "    </tr>\n",
       "    <tr>\n",
       "      <th>1</th>\n",
       "      <td>patient001</td>\n",
       "      <td>s0014lre</td>\n",
       "      <td>1000</td>\n",
       "      <td>115200</td>\n",
       "      <td>15</td>\n",
       "      <td>NaN</td>\n",
       "      <td>NaN</td>\n",
       "      <td>['mV', 'mV', 'mV', 'mV', 'mV', 'mV', 'mV', 'mV...</td>\n",
       "      <td>['i', 'ii', 'iii', 'avr', 'avl', 'avf', 'v1', ...</td>\n",
       "      <td>81.0</td>\n",
       "      <td>female</td>\n",
       "      <td>17/10/1990</td>\n",
       "      <td>NaN</td>\n",
       "      <td>Myocardial infarction</td>\n",
       "    </tr>\n",
       "    <tr>\n",
       "      <th>2</th>\n",
       "      <td>patient001</td>\n",
       "      <td>s0016lre</td>\n",
       "      <td>1000</td>\n",
       "      <td>115200</td>\n",
       "      <td>15</td>\n",
       "      <td>NaN</td>\n",
       "      <td>NaN</td>\n",
       "      <td>['mV', 'mV', 'mV', 'mV', 'mV', 'mV', 'mV', 'mV...</td>\n",
       "      <td>['i', 'ii', 'iii', 'avr', 'avl', 'avf', 'v1', ...</td>\n",
       "      <td>81.0</td>\n",
       "      <td>female</td>\n",
       "      <td>18/10/1990</td>\n",
       "      <td>NaN</td>\n",
       "      <td>Myocardial infarction</td>\n",
       "    </tr>\n",
       "    <tr>\n",
       "      <th>3</th>\n",
       "      <td>patient002</td>\n",
       "      <td>s0015lre</td>\n",
       "      <td>1000</td>\n",
       "      <td>115200</td>\n",
       "      <td>15</td>\n",
       "      <td>NaN</td>\n",
       "      <td>NaN</td>\n",
       "      <td>['mV', 'mV', 'mV', 'mV', 'mV', 'mV', 'mV', 'mV...</td>\n",
       "      <td>['i', 'ii', 'iii', 'avr', 'avl', 'avf', 'v1', ...</td>\n",
       "      <td>58.0</td>\n",
       "      <td>female</td>\n",
       "      <td>17/10/1990</td>\n",
       "      <td>NaN</td>\n",
       "      <td>Myocardial infarction</td>\n",
       "    </tr>\n",
       "    <tr>\n",
       "      <th>4</th>\n",
       "      <td>patient003</td>\n",
       "      <td>s0017lre</td>\n",
       "      <td>1000</td>\n",
       "      <td>115200</td>\n",
       "      <td>15</td>\n",
       "      <td>NaN</td>\n",
       "      <td>NaN</td>\n",
       "      <td>['mV', 'mV', 'mV', 'mV', 'mV', 'mV', 'mV', 'mV...</td>\n",
       "      <td>['i', 'ii', 'iii', 'avr', 'avl', 'avf', 'v1', ...</td>\n",
       "      <td>63.0</td>\n",
       "      <td>male</td>\n",
       "      <td>18/10/1990</td>\n",
       "      <td>NaN</td>\n",
       "      <td>Myocardial infarction</td>\n",
       "    </tr>\n",
       "  </tbody>\n",
       "</table>\n",
       "</div>"
      ],
      "text/plain": [
       "      patient record_id    fs  sig_len  n_sig  base_date  base_time  \\\n",
       "0  patient001  s0010_re  1000    38400     15        NaN        NaN   \n",
       "1  patient001  s0014lre  1000   115200     15        NaN        NaN   \n",
       "2  patient001  s0016lre  1000   115200     15        NaN        NaN   \n",
       "3  patient002  s0015lre  1000   115200     15        NaN        NaN   \n",
       "4  patient003  s0017lre  1000   115200     15        NaN        NaN   \n",
       "\n",
       "                                               units  \\\n",
       "0  ['mV', 'mV', 'mV', 'mV', 'mV', 'mV', 'mV', 'mV...   \n",
       "1  ['mV', 'mV', 'mV', 'mV', 'mV', 'mV', 'mV', 'mV...   \n",
       "2  ['mV', 'mV', 'mV', 'mV', 'mV', 'mV', 'mV', 'mV...   \n",
       "3  ['mV', 'mV', 'mV', 'mV', 'mV', 'mV', 'mV', 'mV...   \n",
       "4  ['mV', 'mV', 'mV', 'mV', 'mV', 'mV', 'mV', 'mV...   \n",
       "\n",
       "                                            sig_name   age     sex  \\\n",
       "0  ['i', 'ii', 'iii', 'avr', 'avl', 'avf', 'v1', ...  81.0  female   \n",
       "1  ['i', 'ii', 'iii', 'avr', 'avl', 'avf', 'v1', ...  81.0  female   \n",
       "2  ['i', 'ii', 'iii', 'avr', 'avl', 'avf', 'v1', ...  81.0  female   \n",
       "3  ['i', 'ii', 'iii', 'avr', 'avl', 'avf', 'v1', ...  58.0  female   \n",
       "4  ['i', 'ii', 'iii', 'avr', 'avl', 'avf', 'v1', ...  63.0    male   \n",
       "\n",
       "     ECG_date  Diagnose   Reason_for_admission  \n",
       "0  01/10/1990       NaN  Myocardial infarction  \n",
       "1  17/10/1990       NaN  Myocardial infarction  \n",
       "2  18/10/1990       NaN  Myocardial infarction  \n",
       "3  17/10/1990       NaN  Myocardial infarction  \n",
       "4  18/10/1990       NaN  Myocardial infarction  "
      ]
     },
     "execution_count": 3,
     "metadata": {},
     "output_type": "execute_result"
    }
   ],
   "source": [
    "df.head()"
   ]
  },
  {
   "cell_type": "code",
   "execution_count": 4,
   "id": "2155286e",
   "metadata": {},
   "outputs": [
    {
     "data": {
      "text/plain": [
       "<bound method DataFrame.info of         patient record_id    fs  sig_len  n_sig  base_date  base_time  \\\n",
       "0    patient001  s0010_re  1000    38400     15        NaN        NaN   \n",
       "1    patient001  s0014lre  1000   115200     15        NaN        NaN   \n",
       "2    patient001  s0016lre  1000   115200     15        NaN        NaN   \n",
       "3    patient002  s0015lre  1000   115200     15        NaN        NaN   \n",
       "4    patient003  s0017lre  1000   115200     15        NaN        NaN   \n",
       "..          ...       ...   ...      ...    ...        ...        ...   \n",
       "544  patient292  s0555_re  1000   120012     15        NaN        NaN   \n",
       "545  patient292  s0556_re  1000   120012     15        NaN        NaN   \n",
       "546  patient293  s0557_re  1000   120012     15        NaN        NaN   \n",
       "547  patient293  s0558_re  1000   120012     15        NaN        NaN   \n",
       "548  patient294  s0559_re  1000   120012     15        NaN        NaN   \n",
       "\n",
       "                                                 units  \\\n",
       "0    ['mV', 'mV', 'mV', 'mV', 'mV', 'mV', 'mV', 'mV...   \n",
       "1    ['mV', 'mV', 'mV', 'mV', 'mV', 'mV', 'mV', 'mV...   \n",
       "2    ['mV', 'mV', 'mV', 'mV', 'mV', 'mV', 'mV', 'mV...   \n",
       "3    ['mV', 'mV', 'mV', 'mV', 'mV', 'mV', 'mV', 'mV...   \n",
       "4    ['mV', 'mV', 'mV', 'mV', 'mV', 'mV', 'mV', 'mV...   \n",
       "..                                                 ...   \n",
       "544  ['mV', 'mV', 'mV', 'mV', 'mV', 'mV', 'mV', 'mV...   \n",
       "545  ['mV', 'mV', 'mV', 'mV', 'mV', 'mV', 'mV', 'mV...   \n",
       "546  ['mV', 'mV', 'mV', 'mV', 'mV', 'mV', 'mV', 'mV...   \n",
       "547  ['mV', 'mV', 'mV', 'mV', 'mV', 'mV', 'mV', 'mV...   \n",
       "548  ['mV', 'mV', 'mV', 'mV', 'mV', 'mV', 'mV', 'mV...   \n",
       "\n",
       "                                              sig_name   age     sex  \\\n",
       "0    ['i', 'ii', 'iii', 'avr', 'avl', 'avf', 'v1', ...  81.0  female   \n",
       "1    ['i', 'ii', 'iii', 'avr', 'avl', 'avf', 'v1', ...  81.0  female   \n",
       "2    ['i', 'ii', 'iii', 'avr', 'avl', 'avf', 'v1', ...  81.0  female   \n",
       "3    ['i', 'ii', 'iii', 'avr', 'avl', 'avf', 'v1', ...  58.0  female   \n",
       "4    ['i', 'ii', 'iii', 'avr', 'avl', 'avf', 'v1', ...  63.0    male   \n",
       "..                                                 ...   ...     ...   \n",
       "544  ['i', 'ii', 'iii', 'avr', 'avl', 'avf', 'v1', ...  66.0    male   \n",
       "545  ['i', 'ii', 'iii', 'avr', 'avl', 'avf', 'v1', ...  66.0    male   \n",
       "546  ['i', 'ii', 'iii', 'avr', 'avl', 'avf', 'v1', ...  75.0    male   \n",
       "547  ['i', 'ii', 'iii', 'avr', 'avl', 'avf', 'v1', ...  75.0    male   \n",
       "548  ['i', 'ii', 'iii', 'avr', 'avl', 'avf', 'v1', ...  61.0  female   \n",
       "\n",
       "       ECG_date  Diagnose   Reason_for_admission  \n",
       "0    01/10/1990       NaN  Myocardial infarction  \n",
       "1    17/10/1990       NaN  Myocardial infarction  \n",
       "2    18/10/1990       NaN  Myocardial infarction  \n",
       "3    17/10/1990       NaN  Myocardial infarction  \n",
       "4    18/10/1990       NaN  Myocardial infarction  \n",
       "..          ...       ...                    ...  \n",
       "544  03/06/1997       NaN  Myocardial infarction  \n",
       "545  03/06/1997       NaN  Myocardial infarction  \n",
       "546  03/06/1997       NaN  Myocardial infarction  \n",
       "547  03/06/1997       NaN  Myocardial infarction  \n",
       "548  05/06/1997       NaN  Myocardial infarction  \n",
       "\n",
       "[549 rows x 14 columns]>"
      ]
     },
     "execution_count": 4,
     "metadata": {},
     "output_type": "execute_result"
    }
   ],
   "source": [
    "df.info"
   ]
  },
  {
   "cell_type": "code",
   "execution_count": 5,
   "id": "3511ae20",
   "metadata": {},
   "outputs": [
    {
     "name": "stdout",
     "output_type": "stream",
     "text": [
      "27 recordings from 22 users have NaN diagnosis\n"
     ]
    }
   ],
   "source": [
    "print(\"{} recordings from {} users have NaN diagnosis\".format(\n",
    "    df.loc[df.Reason_for_admission.isnull(), \"patient\"].size,\n",
    "    df.loc[df.Reason_for_admission.isnull(), \"patient\"].nunique()\n",
    "))"
   ]
  },
  {
   "cell_type": "code",
   "execution_count": 6,
   "id": "2924ccd8",
   "metadata": {},
   "outputs": [
    {
     "name": "stdout",
     "output_type": "stream",
     "text": [
      "Before: 549, After: 522, 27 records removed\n"
     ]
    }
   ],
   "source": [
    "before = df.shape[0]\n",
    "df = df.drop(df[df.Reason_for_admission.isnull()].index)\n",
    "print(\"Before: {}, After: {}, {} records removed\".format(before, df.shape[0], before - df.shape[0]))"
   ]
  },
  {
   "cell_type": "code",
   "execution_count": 7,
   "id": "86854fc8",
   "metadata": {},
   "outputs": [
    {
     "data": {
      "text/plain": [
       "1    159\n",
       "2     24\n",
       "3     31\n",
       "4     50\n",
       "5      3\n",
       "7      1\n",
       "Name: record_id, dtype: int64"
      ]
     },
     "execution_count": 7,
     "metadata": {},
     "output_type": "execute_result"
    }
   ],
   "source": [
    "df.groupby([\"patient\"])['record_id'].nunique().value_counts().sort_index()"
   ]
  },
  {
   "cell_type": "code",
   "execution_count": 8,
   "id": "c1c1affa",
   "metadata": {},
   "outputs": [
    {
     "name": "stdout",
     "output_type": "stream",
     "text": [
      "Different recordings of same patient are marked with same diagnosis: True\n"
     ]
    }
   ],
   "source": [
    "_t = df.groupby([\"patient\"])['Reason_for_admission'].nunique().eq(1).all()\n",
    "print(\"Different recordings of same patient are marked with same diagnosis:\", _t)"
   ]
  },
  {
   "cell_type": "markdown",
   "id": "203dfa66",
   "metadata": {},
   "source": [
    "# Demographics"
   ]
  },
  {
   "cell_type": "code",
   "execution_count": 9,
   "id": "cf9efdf9",
   "metadata": {},
   "outputs": [
    {
     "name": "stdout",
     "output_type": "stream",
     "text": [
      "Age is not specified for 8 patients\n"
     ]
    }
   ],
   "source": [
    "ages = df.groupby([\"patient\"])['age'].apply(lambda x: list(np.unique(x))[0])\n",
    "print(\"Age is not specified for {} patients\".format(ages.isna().sum()))"
   ]
  },
  {
   "cell_type": "code",
   "execution_count": 10,
   "id": "1b5dfa59",
   "metadata": {},
   "outputs": [
    {
     "data": {
      "text/plain": [
       "count    260.000000\n",
       "mean      56.861538\n",
       "std       14.444811\n",
       "min       17.000000\n",
       "25%       48.000000\n",
       "50%       58.000000\n",
       "75%       67.000000\n",
       "max       87.000000\n",
       "Name: age, dtype: float64"
      ]
     },
     "execution_count": 10,
     "metadata": {},
     "output_type": "execute_result"
    }
   ],
   "source": [
    "ages.describe()"
   ]
  },
  {
   "cell_type": "code",
   "execution_count": 11,
   "id": "c8941aff",
   "metadata": {},
   "outputs": [
    {
     "data": {
      "text/plain": [
       "Text(0.5, 0, 'Age')"
      ]
     },
     "execution_count": 11,
     "metadata": {},
     "output_type": "execute_result"
    },
    {
     "data": {
      "image/png": "[encoded data removed]",
      "text/plain": [
       "<Figure size 432x288 with 1 Axes>"
      ]
     },
     "metadata": {
      "needs_background": "light"
     },
     "output_type": "display_data"
    }
   ],
   "source": [
    "ax = ages.plot.hist(title=\"Age distribution\")\n",
    "ax.set_xlabel(\"Age\")"
   ]
  },
  {
   "cell_type": "code",
   "execution_count": 12,
   "id": "e003f7fe",
   "metadata": {},
   "outputs": [
    {
     "name": "stderr",
     "output_type": "stream",
     "text": [
      "C:\\Users\\Lenovo\\AppData\\Local\\Temp/ipykernel_19508/8445278.py:3: FutureWarning: Indexing with multiple keys (implicitly converted to a tuple of keys) will be deprecated, use a list instead.\n",
      "  groupby_diagnosis = df.groupby([\"Reason_for_admission\"])['patient', 'signal_duration']\n"
     ]
    },
    {
     "data": {
      "image/png": "[encoded data removed]",
      "text/plain": [
       "<Figure size 720x360 with 2 Axes>"
      ]
     },
     "metadata": {
      "needs_background": "light"
     },
     "output_type": "display_data"
    }
   ],
   "source": [
    "df[\"signal_duration\"] = df[\"sig_len\"] / df[\"fs\"]\n",
    "\n",
    "groupby_diagnosis = df.groupby([\"Reason_for_admission\"])['patient', 'signal_duration']\n",
    "groupby_diagnosis = groupby_diagnosis.agg({\"patient\": 'nunique', \"signal_duration\": \"sum\"})\n",
    "\n",
    "fig, axes = plt.subplots(nrows=1, ncols=2)\n",
    "\n",
    "axes[0].yaxis.label.set_visible(False)\n",
    "axes[1].yaxis.label.set_visible(False)\n",
    "\n",
    "groupby_diagnosis[\"patient\"].sort_values(ascending=True).plot(ax=axes[0], kind='barh', grid=True, figsize=(10,5), \n",
    "                                         title=\"Number of patients per diagnosis\")\n",
    "\n",
    "for p in axes[0].patches:\n",
    "    axes[0].annotate(str(p.get_width()), (p.get_x() + p.get_width(), p.get_y()), xytext=(5, 0), textcoords='offset points')\n",
    "\n",
    "groupby_diagnosis[\"signal_duration\"].sort_values(ascending=True).plot(ax=axes[1], kind='barh', grid=True, figsize=(10,5), \n",
    "                                         title=\"Total recording time per diagnosis, sec.\")\n",
    "\n",
    "for p in axes[1].patches:\n",
    "    val = \"{:.1f}\".format(p.get_width())\n",
    "    axes[1].annotate(val, (p.get_x() + p.get_width(), p.get_y()), xytext=(5, 0), textcoords='offset points')\n",
    "    \n",
    "fig.tight_layout()"
   ]
  },
  {
   "cell_type": "markdown",
   "id": "a750a0e0",
   "metadata": {},
   "source": [
    "# Myocardial infarction"
   ]
  },
  {
   "cell_type": "code",
   "execution_count": 13,
   "id": "9f1c064d",
   "metadata": {},
   "outputs": [],
   "source": [
    "df[\"myocardial_infarction\"] = (df.Reason_for_admission == \"Myocardial infarction\").astype(int)"
   ]
  },
  {
   "cell_type": "code",
   "execution_count": 14,
   "id": "61d82a4a",
   "metadata": {},
   "outputs": [
    {
     "data": {
      "image/png": "[encoded data removed]",
      "text/plain": [
       "<Figure size 432x288 with 1 Axes>"
      ]
     },
     "metadata": {
      "needs_background": "light"
     },
     "output_type": "display_data"
    }
   ],
   "source": [
    "_t = df.groupby([\"myocardial_infarction\"])[\"patient\"].nunique()\n",
    "ax = _t.sort_values(ascending=True).plot(kind='barh', grid=True, \n",
    "                                      title=\"Number of patients with MI (1) and no MI (0)\")\n",
    "# ax.set_yticklabels([\"MI\", \"Non-MI\"], rotation=0)\n",
    "for p in ax.patches:\n",
    "    val = \"{:.1f}\".format(p.get_width())\n",
    "    ax.annotate(val, (p.get_x() + p.get_width(), p.get_y()), xytext=(5, 5), textcoords='offset points')"
   ]
  },
  {
   "cell_type": "code",
   "execution_count": 15,
   "id": "74ac2040",
   "metadata": {},
   "outputs": [
    {
     "data": {
      "image/png": "[encoded data removed]",
      "text/plain": [
       "<Figure size 432x288 with 1 Axes>"
      ]
     },
     "metadata": {
      "needs_background": "light"
     },
     "output_type": "display_data"
    }
   ],
   "source": [
    "_t = df.groupby([\"myocardial_infarction\"])[\"signal_duration\"].sum()\n",
    "ax = _t.sort_values(ascending=True).plot(kind='barh', grid=True, \n",
    "                                      title=\"Total recording time for patients with MI (1) and no MI (0), sec.\")\n",
    "# ax.set_yticklabels([\"MI\", \"Non-MI\"], rotation=0)\n",
    "for p in ax.patches:\n",
    "    val = \"{:.1f}\".format(p.get_width())\n",
    "    ax.annotate(val, (p.get_x() + p.get_width(), p.get_y()), xytext=(5, 5), textcoords='offset points')"
   ]
  },
  {
   "cell_type": "code",
   "execution_count": 16,
   "id": "39796f50",
   "metadata": {},
   "outputs": [
    {
     "data": {
      "text/plain": [
       "Text(0.5, 1.05, 'Age distribution for patients with no MI (0) and MI (1)')"
      ]
     },
     "execution_count": 16,
     "metadata": {},
     "output_type": "execute_result"
    },
    {
     "data": {
      "image/png": "[encoded data removed]",
      "text/plain": [
       "<Figure size 432x288 with 2 Axes>"
      ]
     },
     "metadata": {
      "needs_background": "light"
     },
     "output_type": "display_data"
    }
   ],
   "source": [
    "df['age'].hist(by=df['myocardial_infarction'], stacked=True)\n",
    "plt.suptitle('Age distribution for patients with no MI (0) and MI (1)', y=1.05)"
   ]
  },
  {
   "cell_type": "markdown",
   "id": "b66e3f64",
   "metadata": {},
   "source": [
    "# Dysrhythmia"
   ]
  },
  {
   "cell_type": "code",
   "execution_count": 17,
   "id": "ba131f56",
   "metadata": {},
   "outputs": [],
   "source": [
    "df[\"dysrhythmia\"] = (df.Reason_for_admission == \"Dysrhythmia\").astype(int)"
   ]
  },
  {
   "cell_type": "code",
   "execution_count": 18,
   "id": "7fadbae7",
   "metadata": {},
   "outputs": [
    {
     "data": {
      "image/png": "[encoded data removed]",
      "text/plain": [
       "<Figure size 432x288 with 1 Axes>"
      ]
     },
     "metadata": {
      "needs_background": "light"
     },
     "output_type": "display_data"
    }
   ],
   "source": [
    "_t = df.groupby([\"dysrhythmia\"])[\"patient\"].nunique()\n",
    "ax = _t.sort_values(ascending=True).plot(kind='barh', grid=True, \n",
    "                                      title=\"Number of patients with Dysrhythmia (1), and no Dysrhythmia (0)\")\n",
    "# ax.set_yticklabels([\"MI\", \"Non-MI\"], rotation=0)\n",
    "for p in ax.patches:\n",
    "    val = \"{:.1f}\".format(p.get_width())\n",
    "    ax.annotate(val, (p.get_x() + p.get_width(), p.get_y()), xytext=(5, 5), textcoords='offset points')"
   ]
  },
  {
   "cell_type": "code",
   "execution_count": 19,
   "id": "f360b670",
   "metadata": {},
   "outputs": [
    {
     "data": {
      "image/png": "[encoded data removed]",
      "text/plain": [
       "<Figure size 432x288 with 1 Axes>"
      ]
     },
     "metadata": {
      "needs_background": "light"
     },
     "output_type": "display_data"
    }
   ],
   "source": [
    "_t = df.groupby([\"dysrhythmia\"])[\"signal_duration\"].sum()\n",
    "ax = _t.sort_values(ascending=True).plot(kind='barh', grid=True, \n",
    "                                      title=\"Total recording time for patients with \\n Dysrhythmia (1) and no Dysrhythmia (0), sec.\")\n",
    "# ax.set_yticklabels([\"MI\", \"Non-MI\"], rotation=0)\n",
    "for p in ax.patches:\n",
    "    val = \"{:.1f}\".format(p.get_width())\n",
    "    ax.annotate(val, (p.get_x() + p.get_width(), p.get_y()), xytext=(5, 5), textcoords='offset points')"
   ]
  },
  {
   "cell_type": "code",
   "execution_count": 20,
   "id": "0fbb4d2c",
   "metadata": {},
   "outputs": [
    {
     "data": {
      "text/html": [
       "<div>\n",
       "<style scoped>\n",
       "    .dataframe tbody tr th:only-of-type {\n",
       "        vertical-align: middle;\n",
       "    }\n",
       "\n",
       "    .dataframe tbody tr th {\n",
       "        vertical-align: top;\n",
       "    }\n",
       "\n",
       "    .dataframe thead th {\n",
       "        text-align: right;\n",
       "    }\n",
       "</style>\n",
       "<table border=\"1\" class=\"dataframe\">\n",
       "  <thead>\n",
       "    <tr style=\"text-align: right;\">\n",
       "      <th></th>\n",
       "      <th>patient</th>\n",
       "      <th>record_id</th>\n",
       "      <th>fs</th>\n",
       "      <th>sig_len</th>\n",
       "      <th>n_sig</th>\n",
       "      <th>base_date</th>\n",
       "      <th>base_time</th>\n",
       "      <th>units</th>\n",
       "      <th>sig_name</th>\n",
       "      <th>age</th>\n",
       "      <th>sex</th>\n",
       "      <th>ECG_date</th>\n",
       "      <th>Diagnose</th>\n",
       "      <th>Reason_for_admission</th>\n",
       "      <th>signal_duration</th>\n",
       "      <th>myocardial_infarction</th>\n",
       "      <th>dysrhythmia</th>\n",
       "    </tr>\n",
       "  </thead>\n",
       "  <tbody>\n",
       "    <tr>\n",
       "      <th>0</th>\n",
       "      <td>patient001</td>\n",
       "      <td>s0010_re</td>\n",
       "      <td>1000</td>\n",
       "      <td>38400</td>\n",
       "      <td>15</td>\n",
       "      <td>NaN</td>\n",
       "      <td>NaN</td>\n",
       "      <td>['mV', 'mV', 'mV', 'mV', 'mV', 'mV', 'mV', 'mV...</td>\n",
       "      <td>['i', 'ii', 'iii', 'avr', 'avl', 'avf', 'v1', ...</td>\n",
       "      <td>81.0</td>\n",
       "      <td>female</td>\n",
       "      <td>01/10/1990</td>\n",
       "      <td>NaN</td>\n",
       "      <td>Myocardial infarction</td>\n",
       "      <td>38.4</td>\n",
       "      <td>1</td>\n",
       "      <td>0</td>\n",
       "    </tr>\n",
       "    <tr>\n",
       "      <th>1</th>\n",
       "      <td>patient001</td>\n",
       "      <td>s0014lre</td>\n",
       "      <td>1000</td>\n",
       "      <td>115200</td>\n",
       "      <td>15</td>\n",
       "      <td>NaN</td>\n",
       "      <td>NaN</td>\n",
       "      <td>['mV', 'mV', 'mV', 'mV', 'mV', 'mV', 'mV', 'mV...</td>\n",
       "      <td>['i', 'ii', 'iii', 'avr', 'avl', 'avf', 'v1', ...</td>\n",
       "      <td>81.0</td>\n",
       "      <td>female</td>\n",
       "      <td>17/10/1990</td>\n",
       "      <td>NaN</td>\n",
       "      <td>Myocardial infarction</td>\n",
       "      <td>115.2</td>\n",
       "      <td>1</td>\n",
       "      <td>0</td>\n",
       "    </tr>\n",
       "    <tr>\n",
       "      <th>2</th>\n",
       "      <td>patient001</td>\n",
       "      <td>s0016lre</td>\n",
       "      <td>1000</td>\n",
       "      <td>115200</td>\n",
       "      <td>15</td>\n",
       "      <td>NaN</td>\n",
       "      <td>NaN</td>\n",
       "      <td>['mV', 'mV', 'mV', 'mV', 'mV', 'mV', 'mV', 'mV...</td>\n",
       "      <td>['i', 'ii', 'iii', 'avr', 'avl', 'avf', 'v1', ...</td>\n",
       "      <td>81.0</td>\n",
       "      <td>female</td>\n",
       "      <td>18/10/1990</td>\n",
       "      <td>NaN</td>\n",
       "      <td>Myocardial infarction</td>\n",
       "      <td>115.2</td>\n",
       "      <td>1</td>\n",
       "      <td>0</td>\n",
       "    </tr>\n",
       "    <tr>\n",
       "      <th>3</th>\n",
       "      <td>patient002</td>\n",
       "      <td>s0015lre</td>\n",
       "      <td>1000</td>\n",
       "      <td>115200</td>\n",
       "      <td>15</td>\n",
       "      <td>NaN</td>\n",
       "      <td>NaN</td>\n",
       "      <td>['mV', 'mV', 'mV', 'mV', 'mV', 'mV', 'mV', 'mV...</td>\n",
       "      <td>['i', 'ii', 'iii', 'avr', 'avl', 'avf', 'v1', ...</td>\n",
       "      <td>58.0</td>\n",
       "      <td>female</td>\n",
       "      <td>17/10/1990</td>\n",
       "      <td>NaN</td>\n",
       "      <td>Myocardial infarction</td>\n",
       "      <td>115.2</td>\n",
       "      <td>1</td>\n",
       "      <td>0</td>\n",
       "    </tr>\n",
       "    <tr>\n",
       "      <th>4</th>\n",
       "      <td>patient003</td>\n",
       "      <td>s0017lre</td>\n",
       "      <td>1000</td>\n",
       "      <td>115200</td>\n",
       "      <td>15</td>\n",
       "      <td>NaN</td>\n",
       "      <td>NaN</td>\n",
       "      <td>['mV', 'mV', 'mV', 'mV', 'mV', 'mV', 'mV', 'mV...</td>\n",
       "      <td>['i', 'ii', 'iii', 'avr', 'avl', 'avf', 'v1', ...</td>\n",
       "      <td>63.0</td>\n",
       "      <td>male</td>\n",
       "      <td>18/10/1990</td>\n",
       "      <td>NaN</td>\n",
       "      <td>Myocardial infarction</td>\n",
       "      <td>115.2</td>\n",
       "      <td>1</td>\n",
       "      <td>0</td>\n",
       "    </tr>\n",
       "  </tbody>\n",
       "</table>\n",
       "</div>"
      ],
      "text/plain": [
       "      patient record_id    fs  sig_len  n_sig  base_date  base_time  \\\n",
       "0  patient001  s0010_re  1000    38400     15        NaN        NaN   \n",
       "1  patient001  s0014lre  1000   115200     15        NaN        NaN   \n",
       "2  patient001  s0016lre  1000   115200     15        NaN        NaN   \n",
       "3  patient002  s0015lre  1000   115200     15        NaN        NaN   \n",
       "4  patient003  s0017lre  1000   115200     15        NaN        NaN   \n",
       "\n",
       "                                               units  \\\n",
       "0  ['mV', 'mV', 'mV', 'mV', 'mV', 'mV', 'mV', 'mV...   \n",
       "1  ['mV', 'mV', 'mV', 'mV', 'mV', 'mV', 'mV', 'mV...   \n",
       "2  ['mV', 'mV', 'mV', 'mV', 'mV', 'mV', 'mV', 'mV...   \n",
       "3  ['mV', 'mV', 'mV', 'mV', 'mV', 'mV', 'mV', 'mV...   \n",
       "4  ['mV', 'mV', 'mV', 'mV', 'mV', 'mV', 'mV', 'mV...   \n",
       "\n",
       "                                            sig_name   age     sex  \\\n",
       "0  ['i', 'ii', 'iii', 'avr', 'avl', 'avf', 'v1', ...  81.0  female   \n",
       "1  ['i', 'ii', 'iii', 'avr', 'avl', 'avf', 'v1', ...  81.0  female   \n",
       "2  ['i', 'ii', 'iii', 'avr', 'avl', 'avf', 'v1', ...  81.0  female   \n",
       "3  ['i', 'ii', 'iii', 'avr', 'avl', 'avf', 'v1', ...  58.0  female   \n",
       "4  ['i', 'ii', 'iii', 'avr', 'avl', 'avf', 'v1', ...  63.0    male   \n",
       "\n",
       "     ECG_date  Diagnose   Reason_for_admission  signal_duration  \\\n",
       "0  01/10/1990       NaN  Myocardial infarction             38.4   \n",
       "1  17/10/1990       NaN  Myocardial infarction            115.2   \n",
       "2  18/10/1990       NaN  Myocardial infarction            115.2   \n",
       "3  17/10/1990       NaN  Myocardial infarction            115.2   \n",
       "4  18/10/1990       NaN  Myocardial infarction            115.2   \n",
       "\n",
       "   myocardial_infarction  dysrhythmia  \n",
       "0                      1            0  \n",
       "1                      1            0  \n",
       "2                      1            0  \n",
       "3                      1            0  \n",
       "4                      1            0  "
      ]
     },
     "execution_count": 20,
     "metadata": {},
     "output_type": "execute_result"
    }
   ],
   "source": [
    "df.head()"
   ]
  },
  {
   "cell_type": "code",
   "execution_count": null,
   "id": "559bdaba",
   "metadata": {},
   "outputs": [],
   "source": []
  }
 ],
 "metadata": {
  "kernelspec": {
   "display_name": "Python 3 (ipykernel)",
   "language": "python",
   "name": "python3"
  },
  "language_info": {
   "codemirror_mode": {
    "name": "ipython",
    "version": 3
   },
   "file_extension": ".py",
   "mimetype": "text/x-python",
   "name": "python",
   "nbconvert_exporter": "python",
   "pygments_lexer": "ipython3",
   "version": "3.9.7"
  }
 },
 "nbformat": 4,
 "nbformat_minor": 5
}
